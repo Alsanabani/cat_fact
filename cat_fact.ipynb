{
 "cells": [
  {
   "cell_type": "code",
   "execution_count": 1,
   "metadata": {},
   "outputs": [
    {
     "name": "stdout",
     "output_type": "stream",
     "text": [
      "Requirement already satisfied: traceback2 in i:\\anacondainstalledfolder\\lib\\site-packages (1.4.0)\n",
      "Requirement already satisfied: linecache2 in i:\\anacondainstalledfolder\\lib\\site-packages (from traceback2) (1.0.0)\n",
      "Note: you may need to restart the kernel to use updated packages.\n"
     ]
    }
   ],
   "source": [
    "pip install traceback2"
   ]
  },
  {
   "cell_type": "code",
   "execution_count": 2,
   "metadata": {},
   "outputs": [],
   "source": [
    "import requests\n",
    "import time\n",
    "import traceback2 as traceback\n",
    "\n",
    "\n",
    "def print_cat_fact(mode: str, i: int, sleep: int = 3):\n",
    "    try:\n",
    "        url = \"https://catfact.ninja/fact\"\n",
    "        r = requests.get(url)\n",
    "        fact = r.json()['fact']\n",
    "        time.sleep(sleep)\n",
    "        if mode == 'print':\n",
    "            print(f\"{i}: {fact}\")\n",
    "        else:\n",
    "            return fact\n",
    "    except Exception as e:\n",
    "        print(e)\n",
    "        print(traceback.format_exc())"
   ]
  },
  {
   "cell_type": "code",
   "execution_count": 3,
   "metadata": {},
   "outputs": [
    {
     "name": "stdout",
     "output_type": "stream",
     "text": [
      "Cats lap liquid from the underside of their tongue, not from the top.\n"
     ]
    }
   ],
   "source": [
    "import requests\n",
    "response = requests.get(\"https://cat-fact.herokuapp.com/facts/random?animal_type=cat&amount=1\")\n",
    "#print(response.json())\n",
    "print(response.json()[\"text\"])\n",
    "#cat_fact = response.json()[\"text\"]"
   ]
  },
  {
   "cell_type": "code",
   "execution_count": null,
   "metadata": {},
   "outputs": [],
   "source": []
  }
 ],
 "metadata": {
  "kernelspec": {
   "display_name": "Python 3",
   "language": "python",
   "name": "python3"
  },
  "language_info": {
   "codemirror_mode": {
    "name": "ipython",
    "version": 3
   },
   "file_extension": ".py",
   "mimetype": "text/x-python",
   "name": "python",
   "nbconvert_exporter": "python",
   "pygments_lexer": "ipython3",
   "version": "3.7.4"
  }
 },
 "nbformat": 4,
 "nbformat_minor": 2
}
